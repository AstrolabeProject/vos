{
 "cells": [
  {
   "cell_type": "code",
   "execution_count": 7,
   "metadata": {},
   "outputs": [
    {
     "data": {
      "text/html": [
       "<i>Table masked=True length=882</i>\n",
       "<table id=\"table140262969289416\" class=\"table-striped table-bordered table-condensed\">\n",
       "<thead><tr><th>MAIN_ID</th><th>RA_d</th><th>DEC_d</th></tr></thead>\n",
       "<thead><tr><th></th><th>deg</th><th>deg</th></tr></thead>\n",
       "<thead><tr><th>object</th><th>float64</th><th>float64</th></tr></thead>\n",
       "<tr><td>[RTG2015] 7792</td><td>53.15973500</td><td>-27.78005500</td></tr>\n",
       "<tr><td>[RTG2015] 23880</td><td>53.15966700</td><td>-27.77980100</td></tr>\n",
       "<tr><td>[YWH2010] Jdrop-C66</td><td>53.16038750</td><td>-27.78016890</td></tr>\n",
       "<tr><td>[RTG2015] 7859</td><td>53.15966800</td><td>-27.77973500</td></tr>\n",
       "<tr><td>UDF  8987</td><td>53.15962000</td><td>-27.77975000</td></tr>\n",
       "<tr><td>[RTG2015] 9933</td><td>53.15963500</td><td>-27.77960300</td></tr>\n",
       "<tr><td>[RTG2015] 9974</td><td>53.15955800</td><td>-27.78033100</td></tr>\n",
       "<tr><td>[RTG2015] 25096</td><td>53.15993500</td><td>-27.77939100</td></tr>\n",
       "<tr><td>[ADW2016] MM J033238.57-274648.0</td><td>53.16071000</td><td>-27.78000000</td></tr>\n",
       "<tr><td>...</td><td>...</td><td>...</td></tr>\n",
       "<tr><td>ZFOURGE CDFS 18393</td><td>53.16938500</td><td>-27.78015800</td></tr>\n",
       "<tr><td>[RTG2015] 9194</td><td>53.15585200</td><td>-27.77254900</td></tr>\n",
       "<tr><td>[RTG2015] 9605</td><td>53.16837400</td><td>-27.77624100</td></tr>\n",
       "<tr><td>[RTG2015] 4586</td><td>53.16513600</td><td>-27.78695800</td></tr>\n",
       "<tr><td>[CCO2011] UDF0609</td><td>53.16309100</td><td>-27.78785800</td></tr>\n",
       "<tr><td>[CBS2006]  7853</td><td>53.15940400</td><td>-27.77169500</td></tr>\n",
       "<tr><td>[RTG2015] 9244</td><td>53.15521400</td><td>-27.77283600</td></tr>\n",
       "<tr><td>[IBB2017] 6336</td><td>53.15480593</td><td>-27.77305852</td></tr>\n",
       "<tr><td>[RTG2015] 7454</td><td>53.15072000</td><td>-27.78138700</td></tr>\n",
       "<tr><td>UDF  7357</td><td>53.16927900</td><td>-27.78139400</td></tr>\n",
       "</table>"
      ],
      "text/plain": [
       "<Table masked=True length=882>\n",
       "            MAIN_ID                  RA_d       DEC_d    \n",
       "                                     deg         deg     \n",
       "             object                float64     float64   \n",
       "-------------------------------- ----------- ------------\n",
       "                  [RTG2015] 7792 53.15973500 -27.78005500\n",
       "                 [RTG2015] 23880 53.15966700 -27.77980100\n",
       "             [YWH2010] Jdrop-C66 53.16038750 -27.78016890\n",
       "                  [RTG2015] 7859 53.15966800 -27.77973500\n",
       "                       UDF  8987 53.15962000 -27.77975000\n",
       "                  [RTG2015] 9933 53.15963500 -27.77960300\n",
       "                  [RTG2015] 9974 53.15955800 -27.78033100\n",
       "                 [RTG2015] 25096 53.15993500 -27.77939100\n",
       "[ADW2016] MM J033238.57-274648.0 53.16071000 -27.78000000\n",
       "                             ...         ...          ...\n",
       "              ZFOURGE CDFS 18393 53.16938500 -27.78015800\n",
       "                  [RTG2015] 9194 53.15585200 -27.77254900\n",
       "                  [RTG2015] 9605 53.16837400 -27.77624100\n",
       "                  [RTG2015] 4586 53.16513600 -27.78695800\n",
       "               [CCO2011] UDF0609 53.16309100 -27.78785800\n",
       "                 [CBS2006]  7853 53.15940400 -27.77169500\n",
       "                  [RTG2015] 9244 53.15521400 -27.77283600\n",
       "                  [IBB2017] 6336 53.15480593 -27.77305852\n",
       "                  [RTG2015] 7454 53.15072000 -27.78138700\n",
       "                       UDF  7357 53.16927900 -27.78139400"
      ]
     },
     "execution_count": 7,
     "metadata": {},
     "output_type": "execute_result"
    }
   ],
   "source": [
    "from astropy import coordinates\n",
    "from astroquery.simbad import Simbad\n",
    "\n",
    "customSimbad = Simbad()\n",
    "\n",
    "# We've seen errors where ra_prec was NAN, but it's an int: that's a problem\n",
    "# this is a workaround we adapted\n",
    "customSimbad.add_votable_fields('ra(d)', 'dec(d)')\n",
    "customSimbad.remove_votable_fields('coordinates')\n",
    "\n",
    "C = coordinates.SkyCoord(53.16, -27.78, unit=('deg', 'deg'), frame='icrs')\n",
    "\n",
    "result = customSimbad.query_region(C, radius='30 seconds')\n",
    "\n",
    "# result[:5].pprint()\n",
    "result"
   ]
  },
  {
   "cell_type": "code",
   "execution_count": null,
   "metadata": {},
   "outputs": [],
   "source": []
  }
 ],
 "metadata": {
  "kernelspec": {
   "display_name": "Python 3",
   "language": "python",
   "name": "python3"
  },
  "language_info": {
   "codemirror_mode": {
    "name": "ipython",
    "version": 3
   },
   "file_extension": ".py",
   "mimetype": "text/x-python",
   "name": "python",
   "nbconvert_exporter": "python",
   "pygments_lexer": "ipython3",
   "version": "3.7.3"
  }
 },
 "nbformat": 4,
 "nbformat_minor": 4
}
