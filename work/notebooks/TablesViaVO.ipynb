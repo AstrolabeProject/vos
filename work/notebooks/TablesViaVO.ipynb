{
 "cells": [
  {
   "cell_type": "markdown",
   "metadata": {},
   "source": [
    "# Search Catalogs using the Astrolabe VO Server"
   ]
  },
  {
   "cell_type": "code",
   "execution_count": null,
   "metadata": {},
   "outputs": [],
   "source": [
    "from astropy.coordinates import SkyCoord\n",
    "from astropy.wcs import WCS\n",
    "import astropy.io\n",
    "import astropy.units as u"
   ]
  },
  {
   "cell_type": "markdown",
   "metadata": {},
   "source": [
    "### The **pyvo** library allows the querying of VO compatible servers:"
   ]
  },
  {
   "cell_type": "code",
   "execution_count": null,
   "metadata": {},
   "outputs": [],
   "source": [
    "import pyvo"
   ]
  },
  {
   "cell_type": "markdown",
   "metadata": {},
   "source": [
    "### Create a connection to the Astrolabe TAP server:"
   ]
  },
  {
   "cell_type": "code",
   "execution_count": null,
   "metadata": {},
   "outputs": [],
   "source": [
    "jtap = pyvo.dal.TAPService(\"http://dals:8080/dals/tap-jwst\")"
   ]
  },
  {
   "cell_type": "markdown",
   "metadata": {},
   "source": [
    "### The following two searches use ADQL to the TAP endpoint to retrieve data from the Jaguar catalog:"
   ]
  },
  {
   "cell_type": "code",
   "execution_count": null,
   "metadata": {},
   "outputs": [],
   "source": [
    "jag100 = jtap.search(\"Select top 100 * from sia.jaguar\")\n",
    "jag100"
   ]
  },
  {
   "cell_type": "code",
   "execution_count": null,
   "metadata": {},
   "outputs": [],
   "source": [
    "old = jtap.search(\"select jaguar_id,s_ra,s_dec,redshift,max_stellar_age from sia.jaguar where max_stellar_age > 9.95 order by max_stellar_age desc, redshift desc\")\n",
    "old"
   ]
  },
  {
   "cell_type": "markdown",
   "metadata": {},
   "source": [
    "### TAP radius searches are not yet working but one can still manually restrict the coordinates (here using the EAZY catalog):"
   ]
  },
  {
   "cell_type": "code",
   "execution_count": null,
   "metadata": {},
   "outputs": [],
   "source": [
    "eazy = jtap.search(\"select top 1000 * from sia.eazy where s_ra >53.15800 and s_ra < 53.16100 and s_dec < -27.78 and s_dec > -27.78300 order by s_ra desc, s_dec desc, z_spec desc\")\n",
    "eazy"
   ]
  },
  {
   "cell_type": "markdown",
   "metadata": {},
   "source": [
    "### Simple Cone Search: create an SCS connection to the Photometric catalog and retrieve records for nearby objects.\n",
    "\n",
    "#### Simple Cone Search is currently available for the Jaguar (scs-jaguar), EAZY Results Summary (scs-eazy), Photometric (scs-photo),\n",
    "#### EAZY F200W Results Summary (scs-eazy200), EAZY F356W Results Summary (scs-eazy356), Photometric F200W (scs-photo200), and Photometric F356W (scs-photo356) catalogs."
   ]
  },
  {
   "cell_type": "code",
   "execution_count": null,
   "metadata": {},
   "outputs": [],
   "source": [
    "pos = SkyCoord(53.16, -27.78, unit=('deg', 'deg'), frame='icrs')\n",
    "radius = u.Quantity(4, unit=\"arcsecond\")\n",
    "\n",
    "# Use scs-jaguar for Jaguar catalog, scs-eazy for EAZY catalog, and scs-photo for the Photometric catalog:\n",
    "scs = pyvo.dal.SCSService(\"http://dals:8080/dals/scs-photo\")\n",
    "nearby = scs.search(pos=pos, radius=radius)\n",
    "nearby"
   ]
  }
 ],
 "metadata": {
  "kernelspec": {
   "display_name": "Python 3",
   "language": "python",
   "name": "python3"
  },
  "language_info": {
   "codemirror_mode": {
    "name": "ipython",
    "version": 3
   },
   "file_extension": ".py",
   "mimetype": "text/x-python",
   "name": "python",
   "nbconvert_exporter": "python",
   "pygments_lexer": "ipython3",
   "version": "3.7.6"
  }
 },
 "nbformat": 4,
 "nbformat_minor": 4
}
